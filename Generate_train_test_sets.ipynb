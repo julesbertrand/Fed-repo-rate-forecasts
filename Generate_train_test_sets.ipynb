{
 "cells": [
  {
   "cell_type": "code",
   "execution_count": 9,
   "metadata": {},
   "outputs": [],
   "source": [
    "import numpy as np\n",
    "import pandas as pd\n",
    "import matplotlib.pyplot as plt \n",
    "import datetime as dt\n",
    "\n",
    "from utils.dataset import Dataset\n",
    "from utils.utils import save_files, open_file\n",
    "from utils.model_utils import prepare_sequential_data, train_test_split_dates"
   ]
  },
  {
   "cell_type": "code",
   "execution_count": 3,
   "metadata": {},
   "outputs": [
    {
     "name": "stdout",
     "output_type": "stream",
     "text": [
      "<class 'pandas.core.frame.DataFrame'>\n",
      "RangeIndex: 869 entries, 0 to 868\n",
      "Data columns (total 38 columns):\n",
      " #   Column                                    Non-Null Count  Dtype         \n",
      "---  ------                                    --------------  -----         \n",
      " 0   Date                                      869 non-null    datetime64[ns]\n",
      " 1   unempl_rate_seas                          869 non-null    float64       \n",
      " 2   EU27_2020_GDP_gth_rate                    300 non-null    float64       \n",
      " 3   G-20_GDP_gth_rate                         264 non-null    float64       \n",
      " 4   G-7_GDP_gth_rate                          696 non-null    float64       \n",
      " 5   OECD_GDP_gth_rate                         696 non-null    float64       \n",
      " 6   USA_GDP_gth_rate                          869 non-null    float64       \n",
      " 7   Recession                                 869 non-null    float64       \n",
      " 8   VIX                                       366 non-null    float64       \n",
      " 9   potus                                     869 non-null    bool          \n",
      " 10  houseOfRep                                869 non-null    bool          \n",
      " 11  fedChair                                  869 non-null    bool          \n",
      " 12  Perso_consumption_evol_m                  736 non-null    float64       \n",
      " 13  Fed_rate_month_avg                        792 non-null    float64       \n",
      " 14  Fed_rate_spot_EOM                         792 non-null    float64       \n",
      " 15  Fed_rate_month_avg_diff                   792 non-null    float64       \n",
      " 16  Fed_rate_month_avg_pct_change             792 non-null    float64       \n",
      " 17  Fed_rate_month_avg_diff_3_class           792 non-null    float64       \n",
      " 18  Fed_rate_month_avg_diff_5_class           792 non-null    float64       \n",
      " 19  Fed_rate_month_avg_diff_9_class           792 non-null    float64       \n",
      " 20  Fed_rate_month_avg_trend                  792 non-null    float64       \n",
      " 21  cpi_all_seas_pct_change                   869 non-null    float64       \n",
      " 22  cpi_energy_seas_pct_change                760 non-null    float64       \n",
      " 23  empl_pop_ratio_seas_pct_change            868 non-null    float64       \n",
      " 24  unempl_level_seas_pct_change              868 non-null    float64       \n",
      " 25  US_debt_share_in_GDP_pct_change           653 non-null    float64       \n",
      " 26  US_debt_nominal_pct_change                653 non-null    float64       \n",
      " 27  USDCNY_pct_change                         341 non-null    float64       \n",
      " 28  EURUSD_pct_change                         245 non-null    float64       \n",
      " 29  GSPC(S&P500)_pct_change                   869 non-null    float64       \n",
      " 30  trade_balance_All_pct_change              340 non-null    float64       \n",
      " 31  trade_balance_Goods_pct_change            340 non-null    float64       \n",
      " 32  trade_balance_Services_pct_change         340 non-null    float64       \n",
      " 33  WTI_oil_price_pct_change                  869 non-null    float64       \n",
      " 34  Perso_consumption_real_q_pct_change       869 non-null    float64       \n",
      " 35  Non_fin_non_corp_business_inv_pct_change  869 non-null    float64       \n",
      " 36  Non_fin_corp_business_inv_pct_change      869 non-null    float64       \n",
      " 37  Private_business_domestic_inv_pct_change  723 non-null    float64       \n",
      "dtypes: bool(3), datetime64[ns](1), float64(34)\n",
      "memory usage: 240.3 KB\n"
     ]
    }
   ],
   "source": [
    "d = Dataset(path=\"Data/cleaned_data.csv\",\n",
    "            date_col=\"Date\",\n",
    "            include_pct_change=False,\n",
    "            encode_categorical=False\n",
    "               )\n",
    "d.data.loc[:, d.data.dtypes == 'O'] = d.data.loc[:, d.data.dtypes == 'O'].astype(bool)\n",
    "d.data.info()"
   ]
  },
  {
   "cell_type": "markdown",
   "metadata": {},
   "source": [
    "### Main parameters: features, start and end dates, test set size, lookback"
   ]
  },
  {
   "cell_type": "code",
   "execution_count": 4,
   "metadata": {},
   "outputs": [],
   "source": [
    "Y_cols = [\"Fed_rate_month_avg\", \"Fed_rate_spot_EOM\",\n",
    "         \"Fed_rate_month_avg_diff\", \"Fed_rate_month_avg_pct_change\",\n",
    "         \"Fed_rate_month_avg_diff_3_class\", \"Fed_rate_month_avg_diff_5_class\",\n",
    "         \"Fed_rate_month_avg_diff_9_class\", \"Fed_rate_month_avg_trend\", \"Date\"\n",
    "         ]\n",
    "X_non_cols = [\"Fed_rate_month_avg_diff_3_class\", \"Fed_rate_month_avg_diff_5_class\",\n",
    "              \"Fed_rate_month_avg_diff_9_class\", \"Fed_rate_month_avg_trend\", \"Date\"\n",
    "             ]\n",
    "X_cols = list(filter(lambda x: x not in X_non_cols, d.data.columns))"
   ]
  },
  {
   "cell_type": "code",
   "execution_count": 5,
   "metadata": {},
   "outputs": [],
   "source": [
    "start_date = dt.datetime(1992, 1, 1)\n",
    "end_date = dt.datetime(2020, 5, 1)\n",
    "\n",
    "d.del_rows(start_date=start_date, end_date=end_date, inplace=True)\n",
    "d.data = d.data.dropna(axis=1)  # dropping columns with nans\n",
    "\n",
    "test_size = .2\n",
    "standardize = True\n",
    "\n",
    "# row_shifts = (1, 2, 3, 6, 12)\n",
    "\n",
    "\n",
    "lookback = 12\n"
   ]
  },
  {
   "cell_type": "markdown",
   "metadata": {},
   "source": [
    "## 1. ML training sets: feature shifts"
   ]
  },
  {
   "cell_type": "markdown",
   "metadata": {},
   "source": [
    "### 1. Add lagged features"
   ]
  },
  {
   "cell_type": "code",
   "execution_count": null,
   "metadata": {},
   "outputs": [],
   "source": [
    "d.shift_features(row_shifts=row_shifts, inplace=True)\n",
    "# Boolean features were converted to weird type, let's convert them back to booleans\n",
    "d.data.loc[:, d.data.dtypes == 'O'] = d.data.loc[:, d.data.dtypes == 'O'].astype(bool)"
   ]
  },
  {
   "cell_type": "markdown",
   "metadata": {},
   "source": [
    "### 2. Start date and end date of the dataset"
   ]
  },
  {
   "cell_type": "code",
   "execution_count": null,
   "metadata": {},
   "outputs": [],
   "source": [
    "X_cols = [\n",
    "    x \n",
    "    for x in d.data.columns \n",
    "    if (\n",
    "        x not in Y_cols \n",
    "        and len(x.split(\"_t-\")) == 2\n",
    "    )\n",
    "]\n",
    "d.data.head()"
   ]
  },
  {
   "cell_type": "markdown",
   "metadata": {},
   "source": [
    "## 2. Sequences for LSTM / GRU"
   ]
  },
  {
   "cell_type": "code",
   "execution_count": 6,
   "metadata": {},
   "outputs": [
    {
     "name": "stdout",
     "output_type": "stream",
     "text": [
      "['unempl_rate_seas', 'G-7_GDP_gth_rate', 'OECD_GDP_gth_rate', 'USA_GDP_gth_rate', 'Recession', 'VIX', 'potus', 'houseOfRep', 'fedChair', 'Perso_consumption_evol_m', 'Fed_rate_month_avg', 'Fed_rate_spot_EOM', 'Fed_rate_month_avg_diff', 'Fed_rate_month_avg_pct_change', 'cpi_all_seas_pct_change', 'cpi_energy_seas_pct_change', 'empl_pop_ratio_seas_pct_change', 'unempl_level_seas_pct_change', 'US_debt_share_in_GDP_pct_change', 'US_debt_nominal_pct_change', 'USDCNY_pct_change', 'GSPC(S&P500)_pct_change', 'WTI_oil_price_pct_change', 'Perso_consumption_real_q_pct_change', 'Non_fin_non_corp_business_inv_pct_change', 'Non_fin_corp_business_inv_pct_change', 'Private_business_domestic_inv_pct_change']\n",
      "X shape:  (328, 12, 27)\n",
      "Y shape:  (328, 9)\n"
     ]
    }
   ],
   "source": [
    "X_cols = list(filter(lambda x: x in d.columns, X_cols))\n",
    "print(X_cols)\n",
    "X, Y = prepare_sequential_data(d.data, features=X_cols, labels=Y_cols, lookback=12)\n",
    "print(\"X shape: \", X.shape)\n",
    "print(\"Y shape: \", Y.shape)"
   ]
  },
  {
   "cell_type": "markdown",
   "metadata": {},
   "source": [
    "## 3. Split in train and test set and save"
   ]
  },
  {
   "cell_type": "code",
   "execution_count": 7,
   "metadata": {},
   "outputs": [],
   "source": [
    "X_train, Y_train, X_test, Y_test = train_test_split_dates(\n",
    "    X=X,\n",
    "    Y=Y,\n",
    "#     test_date=None,\n",
    "    test_size=test_size,\n",
    "    standardize=standardize,\n",
    "    sequential=True\n",
    ")"
   ]
  },
  {
   "cell_type": "code",
   "execution_count": 10,
   "metadata": {},
   "outputs": [
    {
     "name": "stdout",
     "output_type": "stream",
     "text": [
      "------------------- 5 file(s) saved succesfully in ./Models/start_199201_end_202005_test_201311_seq/ -------------------\n"
     ]
    }
   ],
   "source": [
    "params = open_file(path=\"Data/cleaned_data_params.yaml\")\n",
    "params[\"start_date\"] = start_date\n",
    "params[\"end_date\"] = end_date\n",
    "params[\"test_size\"] = test_size\n",
    "params[\"standardize\"] = standardize\n",
    "params[\"lookback\"] = lookback\n",
    "# params[\"row_shifts\"] = row_shifts\n",
    "\n",
    "files = {\n",
    "    \"X_train.joblib\": X_train,\n",
    "    \"X_test.joblib\": X_test,\n",
    "#     \"X_train.csv\": X_train,\n",
    "#     \"X_test.csv\": X_test,\n",
    "    \"Y_train.csv\": Y_train,\n",
    "    \"Y_test.csv\": Y_test,\n",
    "    \"params.yaml\": params\n",
    "}\n",
    "\n",
    "path = \"./Models/start_{:s}_end_{:s}_test_{:s}\".format(\n",
    "    start_date.strftime(\"%Y%m\"),\n",
    "    end_date.strftime(\"%Y%m\"),\n",
    "    Y_test['Date'].iloc[0].strftime(\"%Y%m\")\n",
    ")\n",
    "path += \"_seq\"\n",
    "\n",
    "save_files(path=path, files=files, replace=True)"
   ]
  }
 ],
 "metadata": {
  "kernelspec": {
   "display_name": "Python 3.7.6 64-bit",
   "language": "python",
   "name": "python37664bitfc8300634b1e462eaa0d9dbf574db025"
  },
  "language_info": {
   "codemirror_mode": {
    "name": "ipython",
    "version": 3
   },
   "file_extension": ".py",
   "mimetype": "text/x-python",
   "name": "python",
   "nbconvert_exporter": "python",
   "pygments_lexer": "ipython3",
   "version": "3.7.9"
  }
 },
 "nbformat": 4,
 "nbformat_minor": 4
}
